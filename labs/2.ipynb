{
 "cells": [
  {
   "cell_type": "markdown",
   "id": "8e9b4932",
   "metadata": {},
   "source": [
    "## Лабораторная работа 2\n",
    "Реализовать методы простой итерации и Ньютона решения систем нелинейных уравнений в виде программного кода, задавая в качестве входных данных точность вычислений. С использованием разработанного программного обеспечения решить систему нелинейных уравнений (при наличии нескольких решений найти то из них, в котором значения неизвестных являются положительными); начальное приближение определить графически. Проанализировать зависимость погрешности вычислений от количества итераций"
   ]
  },
  {
   "cell_type": "code",
   "execution_count": 9,
   "id": "3f58557d",
   "metadata": {},
   "outputs": [
    {
     "name": "stdout",
     "output_type": "stream",
     "text": [
      "Введите эпсилон: 0.0001\n",
      "\n"
     ]
    },
    {
     "data": {
      "image/png": "[encoded data removed]",
      "text/plain": [
       "<Figure size 432x288 with 1 Axes>"
      ]
     },
     "metadata": {
      "needs_background": "light"
     },
     "output_type": "display_data"
    },
    {
     "name": "stdout",
     "output_type": "stream",
     "text": [
      "Метод Ньютона:\n",
      "Ответ: [1.54799144357665, 1.26638165282567]\n",
      "Количество итераций: 3\n",
      "------------------------------------------\n",
      "Функция phi для точки :\n",
      "phi(x) = sqrt(2**x + 2)\n",
      "Следовательно, ДУ phi: 2**x*log(2)/(2*sqrt(2**x + 2))\n",
      "Решая это уравнение для 1 корня, получим, что ДУ phi = 0.456692625372103 < 1\n",
      "Решая это уравнение для 2 корня, получим, что ДУ phi = 0.397203475396366 < 1\n",
      "\n",
      "Метод простой итерации:\n",
      "Ответ: [1.547977787408537, 1.2663778038326219]\n",
      "Количество итераций: 7\n"
     ]
    }
   ],
   "source": [
    "import sympy as sp\n",
    "import numpy as np\n",
    "\n",
    "x, y = sp.symbols('x, y')\n",
    "\n",
    "def newton(f1, f2, intX, intY, eps):\n",
    "    df1_x = sp.diff(f1, x)\n",
    "    df1_y = sp.diff(f1, y)\n",
    "    df2_x = sp.diff(f2, x)\n",
    "    df2_y = sp.diff(f2, y)\n",
    "    x_old = (intX[0] + intX[1]) / 2\n",
    "    y_old = (intY[0] + intY[1]) / 2\n",
    "\n",
    "    iters = 0\n",
    "    while True:\n",
    "        f1_k = f1.evalf(subs = {x: x_old, y: y_old})\n",
    "        f2_k = f2.evalf(subs = {x: x_old, y: y_old})\n",
    "        df1_x_k = df1_x.evalf(subs = {x: x_old, y: y_old})\n",
    "        df1_y_k = df1_y.evalf(subs = {x: x_old, y: y_old})\n",
    "        df2_x_k = df2_x.evalf(subs = {x: x_old, y: y_old})\n",
    "        df2_y_k = df2_y.evalf(subs = {x: x_old, y: y_old})\n",
    "        A1 = sp.Matrix([[f1_k, df1_y_k],\n",
    "                        [f2_k, df2_y_k]])\n",
    "        A2 = sp.Matrix([[df1_x_k, f1_k],\n",
    "                        [df2_x_k, f2_k]])\n",
    "        J = sp.Matrix([[df1_x_k, df1_y_k],\n",
    "                       [df2_x_k, df2_y_k]])\n",
    "\n",
    "        x_new = x_old - A1.det() / J.det()\n",
    "        y_new = y_old - A2.det() / J.det()\n",
    "\n",
    "        check_x = abs(x_new - x_old)\n",
    "        check_y = abs(y_new - y_old)\n",
    "        check = max(check_x, check_y)\n",
    "        if check <= eps:\n",
    "            break\n",
    "\n",
    "        x_old, y_old = x_new, y_new\n",
    "        iters += 1\n",
    "\n",
    "    return [x_new, y_new], iters\n",
    "\n",
    "\n",
    "def simple_iteration(eps):\n",
    "    x0 = 1.5 \n",
    "    y0 = 0.5  \n",
    "    iter_count = 0  \n",
    "\n",
    "    while True:\n",
    "        x = np.sqrt(4 - y0 ** 2)\n",
    "        y = np.log(x + 2)\n",
    "        \n",
    "        if np.abs(x - x0) < eps and np.abs(y - y0) < eps:\n",
    "            break\n",
    "            \n",
    "        x0 = x\n",
    "        y0 = y\n",
    "\n",
    "        iter_count += 1\n",
    "    return [x, y], iter_count\n",
    "\n",
    "f1 = x**2 + y**2 - 4\n",
    "f2 = x - sp.exp(y) + 2\n",
    "\n",
    "epsilon = float(input(\"Введите эпсилон: \"))\n",
    "print()\n",
    "\n",
    "interval1 = [1, 2]  # интервал для первой точки\n",
    "\n",
    "p1 = sp.plot_implicit(sp.Eq(f1, 0), (x, 0, 5), (y, 0, 5), line_color='b', show=False)\n",
    "p2 = sp.plot_implicit(sp.Eq(f2, 0), (x, 0, 5), (y, 0, 5), line_color='r', show=False)\n",
    "p1.extend(p2)\n",
    "p1.show()\n",
    "\n",
    "\n",
    "print(\"Метод Ньютона:\")\n",
    "Xfirst, k = newton(f1, f2, interval1, interval1, epsilon)\n",
    "print(\"Ответ: {0}\\nКоличество итераций: {1}\".format(Xfirst, k))\n",
    "print('------------------------------------------')\n",
    "\n",
    "x = sp.Symbol('x')\n",
    "t = sp.Symbol('t')\n",
    "forx = 2**x\n",
    "for2 = x**2 - 2\n",
    "newfor = for2.subs(x, t)\n",
    "phir = sp.solve(sp.Eq(forx - newfor, 0), t)[1]\n",
    "print(\"Функция phi для точки :\\nphi(x) = {0}\".format(phir))\n",
    "dphi = sp.diff(phir, x)\n",
    "print(\"Следовательно, ДУ phi: {0}\".format(dphi))\n",
    "root1 = sp.simplify(dphi.subs(x, Xfirst[0]))\n",
    "root2 = sp.simplify(dphi.subs(x, Xfirst[1]))\n",
    "print(\"Решая это уравнение для 1 корня, получим, что ДУ phi = {0} < 1\".format(root1))\n",
    "print(\"Решая это уравнение для 2 корня, получим, что ДУ phi = {0} < 1\\n\".format(root2))\n",
    "\n",
    "Xsecond, k_s = simple_iteration(epsilon)\n",
    "print(\"Метод простой итерации:\")\n",
    "print(\"Ответ: {0}\\nКоличество итераций: {1}\".format(Xsecond, k_s))"
   ]
  }
 ],
 "metadata": {
  "kernelspec": {
   "display_name": "Python 3 (ipykernel)",
   "language": "python",
   "name": "python3"
  },
  "language_info": {
   "codemirror_mode": {
    "name": "ipython",
    "version": 3
   },
   "file_extension": ".py",
   "mimetype": "text/x-python",
   "name": "python",
   "nbconvert_exporter": "python",
   "pygments_lexer": "ipython3",
   "version": "3.9.7"
  }
 },
 "nbformat": 4,
 "nbformat_minor": 5
}
