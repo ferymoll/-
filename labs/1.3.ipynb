{
 "cells": [
  {
   "cell_type": "markdown",
   "id": "789b8641",
   "metadata": {},
   "source": [
    "## Лабораторная работа 1.3\n",
    "\n",
    "Реализовать метод простых итераций и метод Зейделя в виде программ,\n",
    "задавая в качестве входных данных матрицу системы, вектор правых частей и точность вычислений. Используя разработанное программное обеспечение,\n",
    "решить СЛАУ. Проанализировать количество итераций, необходимое для\n",
    "достижения заданной точности."
   ]
  },
  {
   "cell_type": "code",
   "execution_count": 1,
   "id": "2c479024",
   "metadata": {},
   "outputs": [
    {
     "name": "stdout",
     "output_type": "stream",
     "text": [
      "Метод простых итераций:\n",
      "x = [7.0, 6.0, -9.0, -3.0]\n",
      "Количество итераций: 51\n",
      "Метод Зейделя:\n",
      "x = [7.0, 6.0, -9.0, -3.0]\n",
      "Количество итераций: 17\n"
     ]
    }
   ],
   "source": [
    "def simple_iteration(A, b, eps):\n",
    "    n = len(A)\n",
    "    x = [0.0] * n  # начальное приближение\n",
    "    x_new = [0.0] * n\n",
    "    k = 0\n",
    "    while True: \n",
    "        k += 1\n",
    "        for i in range(0, n):\n",
    "            s = 0 \n",
    "            for j in range(0, n):\n",
    "                if i != j: \n",
    "                    s += A[i][j] * x[j] \n",
    "            x_new[i] = (b[i] - s) / A[i][i] \n",
    "            #вычисляем новое приближение для i-ой неизвестной, \n",
    "            #используя найденную сумму и коэффициент A[i][i].\n",
    "\n",
    "        norm = 0\n",
    "        for i in range(0, n):\n",
    "            norm += abs(x_new[i] - x[i]) \n",
    "\n",
    "        if norm < eps:\n",
    "            break\n",
    "\n",
    "        x = x_new.copy()\n",
    "\n",
    "    return x_new, k\n",
    "\n",
    "def gauss_seidel(A, b, eps):\n",
    "    n = len(A)\n",
    "    x = [0.0] * n  # начальное приближение\n",
    "    x_new = [0.0] * n\n",
    "    k1 = 0\n",
    "    while True:\n",
    "        k1 += 1      \n",
    "        for i in range(0, n):\n",
    "            s1 = sum(A[i][j] * x_new[j] for j in range(i))\n",
    "            s2 = sum(A[i][j] * x[j] for j in range(i + 1, n)) \n",
    "            x_new[i] = (b[i] - s1 - s2) / A[i][i] \n",
    "\n",
    "        norm = 0\n",
    "        for i in range(0, n):\n",
    "            norm += abs(x_new[i] - x[i])\n",
    "\n",
    "        if norm < eps:\n",
    "            break\n",
    "\n",
    "        x = x_new.copy()\n",
    "\n",
    "    return x_new, k1\n",
    "\n",
    "A = [[29, 8, 9, -9], [-7, -25, 0, 9], [1, 6, 16, -2] ,[-7, 4, -2, 17]]\n",
    "b = [197, -226, -95, -58]\n",
    "eps = 0.0000000001\n",
    "\n",
    "\n",
    "x, k = simple_iteration(A, b, eps)\n",
    "print(\"Метод простых итераций:\")\n",
    "print(\"x =\", [round(num, 4) for num in x])\n",
    "print(\"Количество итераций:\", k)\n",
    "\n",
    "x, k1 = gauss_seidel(A, b, eps)\n",
    "print(\"Метод Зейделя:\")\n",
    "print(\"x =\", [round(num, 4) for num in x])\n",
    "print(\"Количество итераций:\", k1)   "
   ]
  }
 ],
 "metadata": {
  "kernelspec": {
   "display_name": "Python 3 (ipykernel)",
   "language": "python",
   "name": "python3"
  },
  "language_info": {
   "codemirror_mode": {
    "name": "ipython",
    "version": 3
   },
   "file_extension": ".py",
   "mimetype": "text/x-python",
   "name": "python",
   "nbconvert_exporter": "python",
   "pygments_lexer": "ipython3",
   "version": "3.9.7"
  }
 },
 "nbformat": 4,
 "nbformat_minor": 5
}
