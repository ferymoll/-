{
 "cells": [
  {
   "cell_type": "markdown",
   "id": "2e82a884",
   "metadata": {},
   "source": [
    "## Лабораторная работа 1.4\n",
    "\n",
    "Реализовать метод вращений в виде программы, задавая в качестве входных\n",
    "данных матрицу и точность вычислений. Используя разработанное программное обеспечение, найти собственные значения и собственные векторы симметрических матриц. Проанализировать зависимость погрешности вычислений от числа\n",
    "итераций."
   ]
  },
  {
   "cell_type": "code",
   "execution_count": 1,
   "id": "f268f194",
   "metadata": {},
   "outputs": [
    {
     "name": "stdout",
     "output_type": "stream",
     "text": [
      "Количество итераций: 6\n",
      "Собственные значения:\n",
      "[  0.77069675 -19.34414228   6.57344552]\n",
      "Собственные векторы:\n",
      "[[ 0.76141961 -0.59591222 -0.25520345]\n",
      " [ 0.62389902  0.56672685  0.53811773]\n",
      " [-0.17604029 -0.56895458  0.80330599]]\n"
     ]
    }
   ],
   "source": [
    "import numpy as np\n",
    "import math \n",
    "\n",
    "def Jacobi(A, e):\n",
    "    n = len(A)\n",
    "    \n",
    "    # Инициализация матриц вращения\n",
    "    A = np.matrix(A)\n",
    "    USt = np.matrix(np.eye(n))\n",
    "    iter = 0\n",
    "    while True:\n",
    "        iter += 1\n",
    "        \n",
    "        # Вычисление максимального недиагональный элемента матрицы:\n",
    "        mi, mj, mmax = 0, 0, 0\n",
    "        for i in range(n):\n",
    "            for j in range(i + 1, n):\n",
    "                if mmax < abs(A[i, j]):\n",
    "                    mmax = abs(A[i, j])\n",
    "                    mi, mj = i, j\n",
    "                    \n",
    "        #print(\"максимальный элемент, строка, столбец\", mmax, mi, mj)\n",
    "        \n",
    "        # Вычисление угла вращения\n",
    "        if A[mi, mi] != A[mj, mj]:\n",
    "            phi = math.atan(2 * A[mi, mj] / (A[mi, mi] - A[mj, mj])) / 2 \n",
    "            #print('угол вращения:', phi)\n",
    "        else:\n",
    "            phi = pi / 4\n",
    "            #print('угол вращения:', phi)\n",
    "        \n",
    "        # Вычисление матрицы вращения\n",
    "        U = np.matrix(np.eye(n))\n",
    "        U[mi, mi], U[mi, mj] = math.cos(phi), -math.sin(phi)\n",
    "        U[mj, mi], U[mj, mj] = math.sin(phi),  math.cos(phi)\n",
    "        #print('матрица вращения:', U)\n",
    "        \n",
    "        # Обновление матриц\n",
    "        \n",
    "        A = U.T * A * U\n",
    "        \n",
    "        t = 0\n",
    "        \n",
    "        for i in range(n):\n",
    "            for j in range(i + 1, n):\n",
    "                t += A[i, j] * A[i, j]\n",
    "                \n",
    "        if t < e**2: break\n",
    "        \n",
    "        USt = np.matmul(USt, U)\n",
    "    return np.asarray(A.diagonal())[0], np.asarray(USt), iter\n",
    "\n",
    "\n",
    "A = np.array([[-6, 6, -8],\n",
    "              [6, -4, 9],\n",
    "              [-8, 9, -2]])\n",
    "\n",
    "eps = 0.01\n",
    "znach, vect, iter = Jacobi(A, eps)\n",
    "print('Количество итераций:', iter)\n",
    "print('Собственные значения:')\n",
    "print(znach)\n",
    "print('Собственные векторы:')\n",
    "print(vect)"
   ]
  }
 ],
 "metadata": {
  "kernelspec": {
   "display_name": "Python 3 (ipykernel)",
   "language": "python",
   "name": "python3"
  },
  "language_info": {
   "codemirror_mode": {
    "name": "ipython",
    "version": 3
   },
   "file_extension": ".py",
   "mimetype": "text/x-python",
   "name": "python",
   "nbconvert_exporter": "python",
   "pygments_lexer": "ipython3",
   "version": "3.9.7"
  }
 },
 "nbformat": 4,
 "nbformat_minor": 5
}
