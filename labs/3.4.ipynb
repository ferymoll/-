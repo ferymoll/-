{
 "cells": [
  {
   "cell_type": "markdown",
   "id": "191358d1",
   "metadata": {},
   "source": [
    "## Лабораторная работа 3.4 \n",
    "\n",
    "Вычислить первую и вторую производную от таблично заданной функции yi = f(xi), i = 0, 1, 2, 3, 4 в точке x = X*  "
   ]
  },
  {
   "cell_type": "code",
   "execution_count": 4,
   "id": "3c88f9c6",
   "metadata": {},
   "outputs": [
    {
     "name": "stdout",
     "output_type": "stream",
     "text": [
      "Первая левосторонняя производная: -1.00700\n",
      "Первая правосторонняя производная: -1.05050\n",
      "Центральная первая производная: -1.02875\n",
      "Вторая производная: -0.21750\n"
     ]
    }
   ],
   "source": [
    "import sympy as sp\n",
    "import numpy as np\n",
    "\n",
    "def diffur(x, y, x_star):\n",
    "    n = len(x)\n",
    "    k = 0\n",
    "    \n",
    "    for i in range(n - 1):\n",
    "        if x[i] <= x_star <= x[i + 1]:\n",
    "            k = i\n",
    "            break\n",
    "            \n",
    "    a_start = x[k + 1] - x[k]\n",
    "    a_fin = x[k + 2] - x[k + 1]\n",
    "    rightdiff = (y[k + 1] - y[k]) / a_start\n",
    "    leftdiff = (y[k + 2] - y[k + 1]) / a_fin\n",
    "    centraldiff = rightdiff + (2 * x_star - x[k] - x[k + 1]) * (leftdiff - rightdiff) / (x[k + 2] - x[k])\n",
    "    seconddiff = 2 * (leftdiff - rightdiff) / (x[k + 2] - x[k])\n",
    "\n",
    "    return centraldiff, seconddiff, rightdiff, leftdiff\n",
    "\n",
    "x = sp.Symbol('x')\n",
    "\n",
    "X = np.array([-0.2, 0.0, 0.2, 0.4, 0.6])\n",
    "Y = np.array([1.7722, 1.5708, 1.3694, 1.1593, 0.9273])\n",
    "X_star = 0.2\n",
    "\n",
    "centraldiff, seconddiff, rightdiff, leftdiff = diffur(X, Y, X_star)\n",
    "\n",
    "print('Первая левосторонняя производная: 'f'{rightdiff:.5f}')\n",
    "print('Первая правосторонняя производная: 'f'{leftdiff:.5f}')\n",
    "print(\"Центральная первая производная: {1:.5f}\".format(X_star, centraldiff))\n",
    "print(\"Вторая производная: {1:.5f}\".format(X_star, seconddiff))"
   ]
  }
 ],
 "metadata": {
  "kernelspec": {
   "display_name": "Python 3 (ipykernel)",
   "language": "python",
   "name": "python3"
  },
  "language_info": {
   "codemirror_mode": {
    "name": "ipython",
    "version": 3
   },
   "file_extension": ".py",
   "mimetype": "text/x-python",
   "name": "python",
   "nbconvert_exporter": "python",
   "pygments_lexer": "ipython3",
   "version": "3.9.7"
  }
 },
 "nbformat": 4,
 "nbformat_minor": 5
}
