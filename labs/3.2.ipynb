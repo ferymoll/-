{
 "cells": [
  {
   "cell_type": "markdown",
   "id": "ac4f50bb",
   "metadata": {},
   "source": [
    "## Лабораторная работа 3.2\n",
    "\n",
    "Построить кубический сплайн для функции, заданной в узлах интерполяции, предполагая, что сплайн имеет нулевую кривизну при  х = х0 и х = х4. Вычислить значение функции в точке х = Х* "
   ]
  },
  {
   "cell_type": "code",
   "execution_count": 1,
   "id": "d2f0607a",
   "metadata": {},
   "outputs": [
    {
     "name": "stdout",
     "output_type": "stream",
     "text": [
      "A: [0.     1.3038 1.8439 2.2583]\n",
      "B: [0.88267332 0.53547689 0.22936029 0.2314937 ]\n",
      "C: [ 0.         -0.20423319  0.02416461 -0.02290966]\n",
      "D: [-0.04004572  0.04478388 -0.00923025  0.00449209]\n",
      "\n",
      "Кубический сплайн: f(x) = 1.3038 +0.535477 * (x - 1.7) -0.204233 * (x - 1.7)**2 +0.044784 * (x - 1.7)**3\n",
      "Интервал: 1.7 <= x <= 3.4\n",
      "\n",
      "Значение функции в точке X*: 1.7531560510017157\n"
     ]
    }
   ],
   "source": [
    "import numpy as np\n",
    "import sympy as sp\n",
    "\n",
    "a, b, c, d, x, t = sp.symbols('a, b, c, d, x, t')\n",
    "\n",
    "def cubic_spline(X, y, x_star):\n",
    "    n = len(X)\n",
    "    h = np.diff(X)\n",
    "    alpha = np.zeros(n)\n",
    "    \n",
    "    for i in range(1, n - 1):\n",
    "        alpha[i] = (3 / h[i]) * (y[i+1] - y[i]) - (3 / h[i-1]) * (y[i] - y[i-1])\n",
    "    \n",
    "    l = np.zeros(n)\n",
    "    mu = np.zeros(n)\n",
    "    z = np.zeros(n)\n",
    "    l[0] = 1\n",
    "    mu[0] = 0\n",
    "    z[0] = 0\n",
    "    \n",
    "    for i in range(1, n - 1):\n",
    "        l[i] = 2 * (X[i+1] - X[i-1]) - h[i-1] * mu[i-1]\n",
    "        mu[i] = h[i] / l[i]\n",
    "        z[i] = (alpha[i] - h[i-1] * z[i-1]) / l[i]\n",
    "        \n",
    "    l[n-1] = 1\n",
    "    z[n-1] = 0\n",
    "    C = np.zeros(n)\n",
    "    B = np.zeros(n)\n",
    "    D = np.zeros(n)\n",
    "    C[n-1] = 0\n",
    "    \n",
    "    for j in range(n - 2, -1, -1):\n",
    "        C[j] = z[j] - mu[j] * C[j+1]\n",
    "        B[j] = (y[j+1] - y[j]) / h[j] - h[j] * (C[j+1] + 2 * C[j]) / 3\n",
    "        D[j] = (C[j+1] - C[j]) / (3 * h[j])\n",
    "        \n",
    "    A = y[:-1]\n",
    "    B = B[:-1]\n",
    "    C = C[:-1]\n",
    "    D = D[:-1]\n",
    "    \n",
    "    print('A: {0}'.format(A))\n",
    "    print('B: {0}'.format(B))\n",
    "    print('C: {0}'.format(C))\n",
    "    print('D: {0}'.format(D))\n",
    "    print()\n",
    "    \n",
    "    intervals = np.where(X[:-1] <= x_star)[0]\n",
    "    interval = intervals[-1]\n",
    "    value = A[interval] + B[interval] * (x_star - X[interval]) + C[interval] * (x_star - X[interval])**2 + D[interval] * (x_star - X[interval])**3\n",
    "    \n",
    "    print('Кубический сплайн: f(x) = {0} {1:+f} * (x - {2}) {3:+f} * (x - {2})**2 {4:+f} * (x - {2})**3'.format(A[interval], B[interval], X[interval], C[interval], D[interval]))\n",
    "    print('Интервал: {0} <= x <= {1}\\n'.format(X[interval], X[interval + 1], interval+1))\n",
    "    \n",
    "    return value, interval\n",
    "\n",
    "x = np.array([0.0, 1.7, 3.4, 5.1, 6.8])\n",
    "y = np.array([0.0, 1.3038, 1.8439, 2.2583, 2.6077])\n",
    "x_star = 3\n",
    "\n",
    "value, interval = cubic_spline(x, y, x_star)\n",
    "\n",
    "print(\"Значение функции в точке X*:\", value)"
   ]
  }
 ],
 "metadata": {
  "kernelspec": {
   "display_name": "Python 3 (ipykernel)",
   "language": "python",
   "name": "python3"
  },
  "language_info": {
   "codemirror_mode": {
    "name": "ipython",
    "version": 3
   },
   "file_extension": ".py",
   "mimetype": "text/x-python",
   "name": "python",
   "nbconvert_exporter": "python",
   "pygments_lexer": "ipython3",
   "version": "3.9.7"
  }
 },
 "nbformat": 4,
 "nbformat_minor": 5
}
