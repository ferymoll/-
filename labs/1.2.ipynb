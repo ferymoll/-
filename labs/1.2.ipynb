{
 "cells": [
  {
   "cell_type": "markdown",
   "id": "d0c8965a",
   "metadata": {},
   "source": [
    "## Лабораторная работа 1.2\n",
    "\n",
    "Реализовать метод прогонки в виде программы, задавая в качестве входных\n",
    "данных ненулевые элементы матрицы системы и вектор правых частей.\n",
    "Используя разработанное программное обеспечение, решить СЛАУ с\n",
    "трехдиагональной матрицей."
   ]
  },
  {
   "cell_type": "code",
   "execution_count": 1,
   "id": "2a7fe974",
   "metadata": {},
   "outputs": [
    {
     "name": "stdout",
     "output_type": "stream",
     "text": [
      "Решение СЛАУ:\n",
      "x = [4.0, 4.0, -8.0, -1.0, -1.0]\n"
     ]
    }
   ],
   "source": [
    "def sweep_method(a, b, c, d):\n",
    "    n = len(d)\n",
    "    p = [0]*(n)\n",
    "    q = [0]*(n)\n",
    "    x = [0]*(n)\n",
    "\n",
    "    #Прямой проход\n",
    "    p[0] = -c[0] / b[0]\n",
    "    q[0] = d[0] / b[0]\n",
    "    \n",
    "    \n",
    "    for i in range(1, n):\n",
    "        \n",
    "        if abs(b[i]) <= abs(a[i]) + abs(c[i]):\n",
    "            return [\"Метод расходится (|b_{0}}| <= |a_{0}| + |c_{0}|)\".format(i + 1)]\n",
    "        \n",
    "        \n",
    "        p[i] = -c[i] / (b[i] + a[i] * p[i-1])\n",
    "        q[i] = (d[i] - (a[i] * q[i - 1])) / (b[i] + a[i] * p[i - 1])\n",
    "\n",
    "    #Обратный проход\n",
    "    x[n - 1] = q[n - 1]\n",
    "    for i in range(n-2, -1, -1):\n",
    "        x[i] =  p[i] * x[i + 1] + q[i]\n",
    "\n",
    "    return x\n",
    "\n",
    "a = ([0, 2, 4, -3, 3])\n",
    "b = ([15, -15, 11, 16, 8])\n",
    "c = ([8, 4, 5, -7, 0])\n",
    "d = ([92, -84, -77, 15, -11])\n",
    "\n",
    "# Решение системы линейных уравнений\n",
    "x = sweep_method(a, b, c, d)\n",
    "print(\"Решение СЛАУ:\")\n",
    "print(\"x =\", [round(num, 4) for num in x])\n",
    "\n",
    "\n",
    "# print(\"Введите коэффициенты А:\")\n",
    "# A = [0] + list(map(int, input().split()))\n",
    "# print(\"Введите коэффициенты В:\")\n",
    "# B = list(map(int, input().split()))\n",
    "# print(\"Введите коэффициенты С:\")\n",
    "# C = list(map(int, input().split())) + [0]\n",
    "# print(\"Введите правую часть:\")\n",
    "# D = list(map(int, input().split()))"
   ]
  }
 ],
 "metadata": {
  "kernelspec": {
   "display_name": "Python 3 (ipykernel)",
   "language": "python",
   "name": "python3"
  },
  "language_info": {
   "codemirror_mode": {
    "name": "ipython",
    "version": 3
   },
   "file_extension": ".py",
   "mimetype": "text/x-python",
   "name": "python",
   "nbconvert_exporter": "python",
   "pygments_lexer": "ipython3",
   "version": "3.9.7"
  }
 },
 "nbformat": 4,
 "nbformat_minor": 5
}
